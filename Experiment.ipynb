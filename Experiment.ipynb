{
 "cells": [
  {
   "cell_type": "code",
   "execution_count": 1,
   "id": "58d07021",
   "metadata": {
    "ExecuteTime": {
     "end_time": "2022-03-06T20:21:16.342880Z",
     "start_time": "2022-03-06T20:21:14.925957Z"
    }
   },
   "outputs": [],
   "source": [
    "from node.dataset import P300Dataset"
   ]
  },
  {
   "cell_type": "code",
   "execution_count": 2,
   "id": "a84a8574",
   "metadata": {
    "ExecuteTime": {
     "end_time": "2022-03-06T20:21:38.672652Z",
     "start_time": "2022-03-06T20:21:16.344822Z"
    }
   },
   "outputs": [],
   "source": [
    "ds = P300Dataset().get_data()"
   ]
  },
  {
   "cell_type": "code",
   "execution_count": 3,
   "id": "eb10ffba",
   "metadata": {
    "ExecuteTime": {
     "end_time": "2022-03-06T20:21:38.688746Z",
     "start_time": "2022-03-06T20:21:38.674528Z"
    }
   },
   "outputs": [
    {
     "data": {
      "text/plain": [
       "(tensor([[[-0.9077, -0.9816, -0.5588,  ..., -1.4048, -1.3549, -0.8175],\n",
       "          [-0.2526, -0.1000, -0.4361,  ..., -0.4095, -0.5268, -0.7781],\n",
       "          [-1.0607, -1.3548, -1.3602,  ..., -1.4188, -1.3709, -0.9833],\n",
       "          ...,\n",
       "          [ 1.7003,  1.7003,  1.1669,  ...,  1.2095,  1.3471,  1.7003],\n",
       "          [ 1.2530, -0.1255,  0.7171,  ...,  1.7003,  0.5373,  0.9125],\n",
       "          [ 1.1376,  0.5984,  0.5381,  ...,  1.3680,  0.0429, -0.7080]],\n",
       " \n",
       "         [[-0.5588, -0.4223, -0.8943,  ..., -0.8175, -0.2526, -0.1000],\n",
       "          [-0.4361, -0.7388, -0.6047,  ..., -0.7781, -1.0607, -1.3548],\n",
       "          [-1.3602, -1.1250, -1.1577,  ..., -0.9833, -0.6522, -0.5262],\n",
       "          ...,\n",
       "          [ 1.1669,  0.9147,  1.3617,  ...,  1.7003,  1.2530, -0.1255],\n",
       "          [ 0.7171,  1.7003,  1.7003,  ...,  0.9125,  1.1376,  0.5984],\n",
       "          [ 0.5381,  1.2990,  1.7003,  ..., -0.7080,  0.0541,  0.7987]],\n",
       " \n",
       "         [[-0.8943, -1.4048, -1.3549,  ..., -0.1000, -0.4361, -0.7388],\n",
       "          [-0.6047, -0.4095, -0.5268,  ..., -1.3548, -1.3602, -1.1250],\n",
       "          [-1.1577, -1.4188, -1.3709,  ..., -0.5262, -0.5221, -0.6037],\n",
       "          ...,\n",
       "          [ 1.3617,  1.2095,  1.3471,  ..., -0.1255,  0.7171,  1.7003],\n",
       "          [ 1.7003,  1.7003,  0.5373,  ...,  0.5984,  0.5381,  1.2990],\n",
       "          [ 1.7003,  1.3680,  0.0429,  ...,  0.7987,  0.2697, -0.4218]],\n",
       " \n",
       "         ...,\n",
       " \n",
       "         [[-1.5204, -1.0957, -1.5204,  ..., -0.8659, -0.7763, -0.7326],\n",
       "          [-0.2487, -0.7949, -1.5204,  ..., -1.5204, -1.5204, -1.5204],\n",
       "          [-1.5204, -1.5204, -1.5204,  ..., -1.5204, -1.5204, -0.5731],\n",
       "          ...,\n",
       "          [-0.0993, -0.6312, -0.3074,  ...,  1.1854,  0.3580, -0.2529],\n",
       "          [ 0.2146,  0.8287,  0.3740,  ...,  0.4520, -0.0397, -0.5808],\n",
       "          [-0.6311, -0.3537, -0.1993,  ..., -0.3977, -0.1750, -0.2586]],\n",
       " \n",
       "         [[-1.5204, -1.5204, -1.5204,  ..., -0.7326, -0.2487, -0.7949],\n",
       "          [-1.5204, -1.5204, -1.5204,  ..., -1.5204, -1.5204, -1.5204],\n",
       "          [-1.5204, -1.3946, -1.5204,  ..., -0.5731, -1.5204, -1.5204],\n",
       "          ...,\n",
       "          [-0.3074,  0.7735,  1.3791,  ..., -0.2529,  0.2146,  0.8287],\n",
       "          [ 0.3740, -0.1594,  0.1929,  ..., -0.5808, -0.6311, -0.3537],\n",
       "          [-0.1993, -0.4173, -0.6094,  ..., -0.2586, -0.3420, -0.4100]],\n",
       " \n",
       "         [[-1.5204, -0.8659, -0.7763,  ..., -0.7949, -1.5204, -1.5204],\n",
       "          [-1.5204, -1.5204, -1.5204,  ..., -1.5204, -1.5204, -1.3946],\n",
       "          [-1.5204, -1.5204, -1.5204,  ..., -1.5204, -0.4234, -1.5204],\n",
       "          ...,\n",
       "          [ 1.3791,  1.1854,  0.3580,  ...,  0.8287,  0.3740, -0.1594],\n",
       "          [ 0.1929,  0.4520, -0.0397,  ..., -0.3537, -0.1993, -0.4173],\n",
       "          [-0.6094, -0.3977, -0.1750,  ..., -0.4100, -0.7286, -0.8549]]]),\n",
       " tensor([1, 0, 0,  ..., 0, 1, 0]))"
      ]
     },
     "execution_count": 3,
     "metadata": {},
     "output_type": "execute_result"
    }
   ],
   "source": [
    "ds"
   ]
  },
  {
   "cell_type": "code",
   "execution_count": 4,
   "id": "d10ce3f9",
   "metadata": {
    "ExecuteTime": {
     "end_time": "2022-03-06T20:21:38.694713Z",
     "start_time": "2022-03-06T20:21:38.690873Z"
    }
   },
   "outputs": [
    {
     "data": {
      "text/plain": [
       "2"
      ]
     },
     "execution_count": 4,
     "metadata": {},
     "output_type": "execute_result"
    }
   ],
   "source": [
    "len(ds)"
   ]
  },
  {
   "cell_type": "code",
   "execution_count": 6,
   "id": "b4e22b76",
   "metadata": {
    "ExecuteTime": {
     "end_time": "2022-03-06T20:21:48.052905Z",
     "start_time": "2022-03-06T20:21:48.045755Z"
    }
   },
   "outputs": [
    {
     "data": {
      "text/plain": [
       "torch.Size([56540, 40, 8])"
      ]
     },
     "execution_count": 6,
     "metadata": {},
     "output_type": "execute_result"
    }
   ],
   "source": [
    "ds[0].shape"
   ]
  },
  {
   "cell_type": "code",
   "execution_count": 7,
   "id": "3f4d73d6",
   "metadata": {
    "ExecuteTime": {
     "end_time": "2022-03-06T20:21:57.648850Z",
     "start_time": "2022-03-06T20:21:57.642083Z"
    }
   },
   "outputs": [
    {
     "data": {
      "text/plain": [
       "torch.Size([56540, 40, 8])"
      ]
     },
     "execution_count": 7,
     "metadata": {},
     "output_type": "execute_result"
    }
   ],
   "source": [
    "ds[0].shape"
   ]
  },
  {
   "cell_type": "code",
   "execution_count": 8,
   "id": "75a05a8b",
   "metadata": {
    "ExecuteTime": {
     "end_time": "2022-03-06T20:22:08.034685Z",
     "start_time": "2022-03-06T20:22:07.557491Z"
    }
   },
   "outputs": [],
   "source": [
    "from pyriemann.estimation import ERPCovariances\n",
    "from pyriemann.tangentspace import TangentSpace\n",
    "from sklearn.linear_model import LogisticRegression\n",
    "from sklearn.pipeline import make_pipeline\n",
    "\n",
    "\n",
    "def erpcov_ts_lr():\n",
    "    \"\"\"Obtains Riemannian features and classifies them with logregression\"\"\"\n",
    "    return make_pipeline(\n",
    "        ERPCovariances(estimator=\"oas\"),\n",
    "        TangentSpace(),\n",
    "        LogisticRegression(\n",
    "            solver=\"liblinear\", C=1.0, class_weight=\"balanced\", penalty=\"l1\"\n",
    "        ),\n",
    "    )\n"
   ]
  },
  {
   "cell_type": "code",
   "execution_count": 9,
   "id": "c60006a6",
   "metadata": {
    "ExecuteTime": {
     "end_time": "2022-03-06T20:22:29.255370Z",
     "start_time": "2022-03-06T20:22:29.250357Z"
    }
   },
   "outputs": [],
   "source": [
    "model = erpcov_ts_lr()"
   ]
  },
  {
   "cell_type": "code",
   "execution_count": 21,
   "id": "0491aff3",
   "metadata": {
    "ExecuteTime": {
     "end_time": "2022-03-06T20:29:49.709480Z",
     "start_time": "2022-03-06T20:29:49.702810Z"
    }
   },
   "outputs": [
    {
     "data": {
      "text/plain": [
       "torch.Size([56540])"
      ]
     },
     "execution_count": 21,
     "metadata": {},
     "output_type": "execute_result"
    }
   ],
   "source": [
    "ds[1].shape"
   ]
  },
  {
   "cell_type": "code",
   "execution_count": 23,
   "id": "f4bdfa00",
   "metadata": {
    "ExecuteTime": {
     "end_time": "2022-03-06T20:30:16.801546Z",
     "start_time": "2022-03-06T20:30:16.796018Z"
    }
   },
   "outputs": [
    {
     "data": {
      "text/plain": [
       "1130.8"
      ]
     },
     "execution_count": 23,
     "metadata": {},
     "output_type": "execute_result"
    }
   ],
   "source": [
    "56540/50"
   ]
  },
  {
   "cell_type": "code",
   "execution_count": 50,
   "id": "a5db8c18",
   "metadata": {
    "ExecuteTime": {
     "end_time": "2022-03-06T20:40:29.245396Z",
     "start_time": "2022-03-06T20:40:29.241572Z"
    }
   },
   "outputs": [],
   "source": [
    "n = 15000"
   ]
  },
  {
   "cell_type": "code",
   "execution_count": 51,
   "id": "51c74caf",
   "metadata": {
    "ExecuteTime": {
     "end_time": "2022-03-06T20:40:29.868695Z",
     "start_time": "2022-03-06T20:40:29.865605Z"
    }
   },
   "outputs": [],
   "source": [
    "X, y = ds[0][:n], ds[1][:n]"
   ]
  },
  {
   "cell_type": "code",
   "execution_count": 52,
   "id": "7802e72f",
   "metadata": {
    "ExecuteTime": {
     "end_time": "2022-03-06T20:40:30.493647Z",
     "start_time": "2022-03-06T20:40:30.485713Z"
    }
   },
   "outputs": [
    {
     "data": {
      "text/plain": [
       "tensor([0, 1])"
      ]
     },
     "execution_count": 52,
     "metadata": {},
     "output_type": "execute_result"
    }
   ],
   "source": [
    "y.unique()"
   ]
  },
  {
   "cell_type": "code",
   "execution_count": 53,
   "id": "2358bea0",
   "metadata": {
    "ExecuteTime": {
     "end_time": "2022-03-06T20:40:30.695334Z",
     "start_time": "2022-03-06T20:40:30.691658Z"
    }
   },
   "outputs": [],
   "source": [
    "from sklearn.model_selection import train_test_split"
   ]
  },
  {
   "cell_type": "code",
   "execution_count": 54,
   "id": "eaa18a66",
   "metadata": {
    "ExecuteTime": {
     "end_time": "2022-03-06T20:40:30.890157Z",
     "start_time": "2022-03-06T20:40:30.875053Z"
    }
   },
   "outputs": [],
   "source": [
    "X_train, X_test, y_train, y_test = train_test_split(X, y, test_size=0.33, random_state=42, stratify = y)"
   ]
  },
  {
   "cell_type": "code",
   "execution_count": 55,
   "id": "95f8c38f",
   "metadata": {
    "ExecuteTime": {
     "end_time": "2022-03-06T20:40:31.283197Z",
     "start_time": "2022-03-06T20:40:31.277551Z"
    }
   },
   "outputs": [],
   "source": [
    "X_train, X_test, y_train, y_test = X_train.numpy(), X_test.numpy(), y_train.numpy(), y_test.numpy()"
   ]
  },
  {
   "cell_type": "code",
   "execution_count": 56,
   "id": "44457bcd",
   "metadata": {
    "ExecuteTime": {
     "end_time": "2022-03-06T20:40:31.502038Z",
     "start_time": "2022-03-06T20:40:31.492524Z"
    }
   },
   "outputs": [
    {
     "data": {
      "text/plain": [
       "((array([0, 1]), array([8055, 1995])), (array([0, 1]), array([3967,  983])))"
      ]
     },
     "execution_count": 56,
     "metadata": {},
     "output_type": "execute_result"
    }
   ],
   "source": [
    "import numpy as np\n",
    "np.unique(y_train, return_counts = True), np.unique(y_test, return_counts = True)"
   ]
  },
  {
   "cell_type": "code",
   "execution_count": 57,
   "id": "2e06c4f6",
   "metadata": {
    "ExecuteTime": {
     "end_time": "2022-03-06T20:49:54.455625Z",
     "start_time": "2022-03-06T20:40:31.670266Z"
    }
   },
   "outputs": [],
   "source": [
    "model = model.fit(X_train, y_train)"
   ]
  },
  {
   "cell_type": "code",
   "execution_count": 58,
   "id": "39dadd72",
   "metadata": {
    "ExecuteTime": {
     "end_time": "2022-03-06T20:50:24.977017Z",
     "start_time": "2022-03-06T20:49:54.458155Z"
    }
   },
   "outputs": [],
   "source": [
    "y_pred = model.predict(X_test)"
   ]
  },
  {
   "cell_type": "code",
   "execution_count": 59,
   "id": "813836da",
   "metadata": {
    "ExecuteTime": {
     "end_time": "2022-03-06T20:50:24.981618Z",
     "start_time": "2022-03-06T20:50:24.978665Z"
    }
   },
   "outputs": [],
   "source": [
    "from sklearn.metrics import accuracy_score, f1_score, precision_score, recall_score"
   ]
  },
  {
   "cell_type": "code",
   "execution_count": 60,
   "id": "bb709072",
   "metadata": {
    "ExecuteTime": {
     "end_time": "2022-03-06T20:50:24.996276Z",
     "start_time": "2022-03-06T20:50:24.985109Z"
    }
   },
   "outputs": [],
   "source": [
    "acc = accuracy_score(y_test, y_pred)\n",
    "f1 = f1_score(y_test, y_pred)\n",
    "precision = precision_score(y_test, y_pred)\n",
    "recall = recall_score(y_test, y_pred)"
   ]
  },
  {
   "cell_type": "code",
   "execution_count": 61,
   "id": "048dee01",
   "metadata": {
    "ExecuteTime": {
     "end_time": "2022-03-06T20:50:25.002592Z",
     "start_time": "2022-03-06T20:50:24.998623Z"
    }
   },
   "outputs": [
    {
     "name": "stdout",
     "output_type": "stream",
     "text": [
      "accuracy test: 0.50\n",
      "f1_ test: 0.21\n",
      "precision: 0.15\n",
      "recall:0.33\n"
     ]
    }
   ],
   "source": [
    "print(f\"accuracy test: {acc:.2f}\\nf1_ test: {f1:.2f}\\nprecision: {precision:.2f}\\nrecall:{recall:.2f}\")"
   ]
  },
  {
   "cell_type": "raw",
   "id": "b08db788",
   "metadata": {},
   "source": [
    "дерьмово ибо разные люди"
   ]
  },
  {
   "cell_type": "code",
   "execution_count": null,
   "id": "95a29d9f",
   "metadata": {},
   "outputs": [],
   "source": []
  }
 ],
 "metadata": {
  "kernelspec": {
   "display_name": "node",
   "language": "python",
   "name": "node"
  },
  "language_info": {
   "codemirror_mode": {
    "name": "ipython",
    "version": 3
   },
   "file_extension": ".py",
   "mimetype": "text/x-python",
   "name": "python",
   "nbconvert_exporter": "python",
   "pygments_lexer": "ipython3",
   "version": "3.8.11"
  },
  "toc": {
   "base_numbering": 1,
   "nav_menu": {},
   "number_sections": true,
   "sideBar": true,
   "skip_h1_title": false,
   "title_cell": "Table of Contents",
   "title_sidebar": "Contents",
   "toc_cell": false,
   "toc_position": {},
   "toc_section_display": true,
   "toc_window_display": false
  }
 },
 "nbformat": 4,
 "nbformat_minor": 5
}
